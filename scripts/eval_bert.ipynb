{
 "cells": [
  {
   "cell_type": "code",
   "execution_count": 1,
   "id": "95215981-bd19-4be4-8342-e89934f49fed",
   "metadata": {},
   "outputs": [
    {
     "name": "stderr",
     "output_type": "stream",
     "text": [
      "2025-03-30 11:01:40.302103: I tensorflow/core/util/port.cc:153] oneDNN custom operations are on. You may see slightly different numerical results due to floating-point round-off errors from different computation orders. To turn them off, set the environment variable `TF_ENABLE_ONEDNN_OPTS=0`.\n",
      "2025-03-30 11:01:40.362638: I external/local_xla/xla/tsl/cuda/cudart_stub.cc:32] Could not find cuda drivers on your machine, GPU will not be used.\n",
      "2025-03-30 11:01:40.412099: E external/local_xla/xla/stream_executor/cuda/cuda_fft.cc:485] Unable to register cuFFT factory: Attempting to register factory for plugin cuFFT when one has already been registered\n",
      "2025-03-30 11:01:40.462221: E external/local_xla/xla/stream_executor/cuda/cuda_dnn.cc:8454] Unable to register cuDNN factory: Attempting to register factory for plugin cuDNN when one has already been registered\n",
      "2025-03-30 11:01:40.474627: E external/local_xla/xla/stream_executor/cuda/cuda_blas.cc:1452] Unable to register cuBLAS factory: Attempting to register factory for plugin cuBLAS when one has already been registered\n",
      "2025-03-30 11:01:40.557813: I tensorflow/core/platform/cpu_feature_guard.cc:210] This TensorFlow binary is optimized to use available CPU instructions in performance-critical operations.\n",
      "To enable the following instructions: AVX2 AVX512F AVX512_VNNI FMA, in other operations, rebuild TensorFlow with the appropriate compiler flags.\n",
      "2025-03-30 11:01:41.580904: W tensorflow/compiler/tf2tensorrt/utils/py_utils.cc:38] TF-TRT Warning: Could not find TensorRT\n"
     ]
    }
   ],
   "source": [
    "from transformers import pipeline"
   ]
  },
  {
   "cell_type": "code",
   "execution_count": 18,
   "id": "c3c355ab-d10d-4ff3-b9fb-1ba35f32df98",
   "metadata": {},
   "outputs": [],
   "source": [
    "classifier = pipeline(\"text-classification\", model=\"../models/distilbert\")"
   ]
  },
  {
   "cell_type": "code",
   "execution_count": 19,
   "id": "782c5e84-1908-498d-b383-3a6fe70c2dbc",
   "metadata": {},
   "outputs": [
    {
     "name": "stdout",
     "output_type": "stream",
     "text": [
      "[{'label': 'LABEL_0', 'score': 0.9839784502983093}]\n",
      "[{'label': 'LABEL_1', 'score': 0.9989191293716431}]\n"
     ]
    }
   ],
   "source": [
    "print(classifier(\"The experiment was conducted in 1949\"))\n",
    "print(classifier(\"bro this thing wild lmao 😂\"))"
   ]
  },
  {
   "cell_type": "code",
   "execution_count": 20,
   "id": "60bf35f2-0e3d-4b2e-9709-380385f13bbd",
   "metadata": {},
   "outputs": [],
   "source": [
    " formal_sentences = [\n",
    "    \"The results indicate a statistically significant improvement in performance.\",\n",
    "    \"It is widely acknowledged that such behavior is deemed inappropriate.\",\n",
    "    \"The committee convened to evaluate the proposed amendments.\",\n",
    "    \"In contrast to prior research, this study emphasizes longitudinal outcomes.\",\n",
    "    \"The experiment was conducted in accordance with ethical guidelines.\"\n",
    "]\n",
    "informal_sentences = [\n",
    "    \"yo i’m not even gonna lie, that movie slapped.\",\n",
    "    \"bruh why would anyone even do that 💀\",\n",
    "    \"this is so dumb i can't even 😭\",\n",
    "    \"nah fam that ain't it chief.\",\n",
    "    \"lmk when u done lol i ain’t got all day\"\n",
    "]"
   ]
  },
  {
   "cell_type": "code",
   "execution_count": 21,
   "id": "2479b32d-9fc0-41c4-a546-b1e7e84ec038",
   "metadata": {},
   "outputs": [
    {
     "name": "stdout",
     "output_type": "stream",
     "text": [
      "[{'label': 'LABEL_0', 'score': 0.9969094395637512}]\n",
      "[{'label': 'LABEL_0', 'score': 0.9507045149803162}]\n",
      "[{'label': 'LABEL_0', 'score': 0.9839810729026794}]\n",
      "[{'label': 'LABEL_0', 'score': 0.9979583024978638}]\n",
      "[{'label': 'LABEL_0', 'score': 0.9891315698623657}]\n"
     ]
    }
   ],
   "source": [
    "for sentence in formal_sentences:\n",
    "    print(classifier(sentence))"
   ]
  },
  {
   "cell_type": "code",
   "execution_count": 22,
   "id": "30850489-6a96-4697-971e-63320faa117a",
   "metadata": {},
   "outputs": [
    {
     "name": "stdout",
     "output_type": "stream",
     "text": [
      "[{'label': 'LABEL_1', 'score': 0.9990691542625427}]\n",
      "[{'label': 'LABEL_1', 'score': 0.998854398727417}]\n",
      "[{'label': 'LABEL_1', 'score': 0.9988786578178406}]\n",
      "[{'label': 'LABEL_1', 'score': 0.9987277388572693}]\n",
      "[{'label': 'LABEL_1', 'score': 0.9987578392028809}]\n"
     ]
    }
   ],
   "source": [
    "for sentence in informal_sentences:\n",
    "    print(classifier(sentence))"
   ]
  },
  {
   "cell_type": "code",
   "execution_count": null,
   "id": "7322214c-ef12-42fb-9edb-9438631a4e5f",
   "metadata": {},
   "outputs": [],
   "source": []
  }
 ],
 "metadata": {
  "kernelspec": {
   "display_name": "Python 3 (ipykernel)",
   "language": "python",
   "name": "python3"
  },
  "language_info": {
   "codemirror_mode": {
    "name": "ipython",
    "version": 3
   },
   "file_extension": ".py",
   "mimetype": "text/x-python",
   "name": "python",
   "nbconvert_exporter": "python",
   "pygments_lexer": "ipython3",
   "version": "3.11.2"
  }
 },
 "nbformat": 4,
 "nbformat_minor": 5
}
