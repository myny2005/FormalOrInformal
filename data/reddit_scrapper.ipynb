{
 "cells": [
  {
   "cell_type": "code",
   "execution_count": 18,
   "id": "c1df630a-f10b-4787-a4f5-5cfdc132ad4c",
   "metadata": {},
   "outputs": [],
   "source": [
    "#!pip install praw"
   ]
  },
  {
   "cell_type": "code",
   "execution_count": 19,
   "id": "b05dad7b-66f0-4a7f-bb3f-a9b525951b8c",
   "metadata": {},
   "outputs": [],
   "source": [
    "import praw\n",
    "import pandas as pd"
   ]
  },
  {
   "cell_type": "code",
   "execution_count": 20,
   "id": "832b3158-d1fd-4215-90b0-f46a459189c5",
   "metadata": {},
   "outputs": [
    {
     "name": "stdout",
     "output_type": "stream",
     "text": [
      "Connected (True/False): True\n"
     ]
    }
   ],
   "source": [
    "reddit = praw.Reddit(\n",
    "    client_id=\"your_client_id\", \n",
    "    client_secret=\"your_client_secret\",\n",
    "    user_agent=\"your_agent\"\n",
    ")\n",
    "\n",
    "print(\"Connected (True/False):\", reddit.read_only)"
   ]
  },
  {
   "cell_type": "code",
   "execution_count": 29,
   "id": "58c9ce79-d837-4f84-a1d0-83f24d93740d",
   "metadata": {},
   "outputs": [],
   "source": [
    "# hyperparameters\n",
    "SUBREDDITS_CATEGORIES = [ # \n",
    "    \"AskReddit\",\n",
    "    \"funny\",\n",
    "    \"CasualConversation\",\n",
    "    \"AmItheAsshole\",\n",
    "    \"mildlyinfuriating\",\n",
    "    \"TooAfraidToAsk\",\n",
    "    \"teenagers\",\n",
    "    \"OffMyChest\",\n",
    "    \"confessions\",\n",
    "    \"tifu\",  \n",
    "    \"shitposting\",\n",
    "    \"me_irl\",\n",
    "    \"RoastMe\",\n",
    "    \"relationships\",\n",
    "]\n",
    "#POST_LIMIT = 50\n",
    "POST_LIMIT = 6\n",
    "#COMMENTS_LIMIT = 50\n",
    "COMMENTS_LIMIT = 5"
   ]
  },
  {
   "cell_type": "code",
   "execution_count": 30,
   "id": "7d63ee02-b9ff-45fa-8d90-96121ef8421f",
   "metadata": {},
   "outputs": [],
   "source": [
    "texts = []\n",
    "for sub_name in SUBREDDITS_CATEGORIES:\n",
    "    subreddit = reddit.subreddit(sub_name)\n",
    "    for submission in subreddit.hot(limit = POST_LIMIT):\n",
    "        texts.append(submission.title)\n",
    "        submission.comments.replace_more(limit=0)\n",
    "        for comment in submission.comments[:COMMENTS_LIMIT]:\n",
    "            if comment.body:\n",
    "                texts.append(comment.body)\n",
    "\n",
    "cleaned_texts = list(set(t.strip() for t in texts if len(t.strip()) > 10))"
   ]
  },
  {
   "cell_type": "code",
   "execution_count": 31,
   "id": "35c346a6-9725-4a2d-915c-5abad74d2ba3",
   "metadata": {},
   "outputs": [
    {
     "data": {
      "text/plain": [
       "['Good. I get absolutely spammed by OF people to the point where my bio specifically says not interested (which is still ignored).',\n",
       " 'Why are you still with him? Run baby run',\n",
       " 'OP, you gotta link the video. I’m so curious what you tried to pull off that caused this situation lol',\n",
       " '27M, Do your worst',\n",
       " 'this is crazy coming from some guy named Magnificent Piss',\n",
       " 'I am here because someone mentioned it somewhere else here on reddit. And being curious, I followed the link.  It was the first time I had even heard of the place despite being on reddit for a bit,',\n",
       " 'I left my wife after she said I wasn’t manly enough. This is the post and the update I made on relationships that got deleted.',\n",
       " 'AITA for not opening the door to unannounced family visitors?',\n",
       " 'Yo, no bullshit; read the goddamn Aussie translated hentai ones! I was in stitches so hard I was sore for days.\\n\\nHer: \"Oi... wreck me kid-shitter!\"\\n\\nMe, reading the language atrocity of a coochie being referred to as \"kid-shitter\": #DedAf',\n",
       " 'When she runs her fingers through my hair.']"
      ]
     },
     "execution_count": 31,
     "metadata": {},
     "output_type": "execute_result"
    }
   ],
   "source": [
    "cleaned_texts[:10]"
   ]
  },
  {
   "cell_type": "code",
   "execution_count": 32,
   "id": "16ecf218-8f54-48a0-8d87-e293ecd19ca8",
   "metadata": {},
   "outputs": [],
   "source": [
    "with open(\"informal.txt\", \"w\", encoding = \"utf-8\") as f:\n",
    "    for text in cleaned_texts:\n",
    "        f.write(text + \"\\n\")"
   ]
  },
  {
   "cell_type": "code",
   "execution_count": null,
   "id": "86463a96-e55b-4435-a142-ddb27a916005",
   "metadata": {},
   "outputs": [],
   "source": []
  }
 ],
 "metadata": {
  "kernelspec": {
   "display_name": "Python 3 (ipykernel)",
   "language": "python",
   "name": "python3"
  },
  "language_info": {
   "codemirror_mode": {
    "name": "ipython",
    "version": 3
   },
   "file_extension": ".py",
   "mimetype": "text/x-python",
   "name": "python",
   "nbconvert_exporter": "python",
   "pygments_lexer": "ipython3",
   "version": "3.11.2"
  }
 },
 "nbformat": 4,
 "nbformat_minor": 5
}
