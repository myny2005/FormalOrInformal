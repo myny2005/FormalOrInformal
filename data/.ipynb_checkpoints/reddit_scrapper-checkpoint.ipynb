{
 "cells": [
  {
   "cell_type": "code",
   "execution_count": 2,
   "id": "c1df630a-f10b-4787-a4f5-5cfdc132ad4c",
   "metadata": {},
   "outputs": [],
   "source": [
    "#!pip install praw"
   ]
  },
  {
   "cell_type": "code",
   "execution_count": 3,
   "id": "b05dad7b-66f0-4a7f-bb3f-a9b525951b8c",
   "metadata": {},
   "outputs": [],
   "source": [
    "import praw\n",
    "import pandas as pd"
   ]
  },
  {
   "cell_type": "code",
   "execution_count": 4,
   "id": "832b3158-d1fd-4215-90b0-f46a459189c5",
   "metadata": {},
   "outputs": [
    {
     "name": "stdout",
     "output_type": "stream",
     "text": [
      "Connected (True/False): True\n"
     ]
    }
   ],
   "source": [
    "reddit = praw.Reddit(\n",
    "    client_id=\"Un5BVj1kSistETStDfSK2w\", \n",
    "    client_secret=\"CFaUqbjeScnJqzpWJTGjvRx_uh4Zdw\",\n",
    "    user_agent=\"formality-detector by /u/FineLie6715\"\n",
    ")\n",
    "\n",
    "print(\"Connected (True/False):\", reddit.read_only)"
   ]
  },
  {
   "cell_type": "code",
   "execution_count": 5,
   "id": "58c9ce79-d837-4f84-a1d0-83f24d93740d",
   "metadata": {},
   "outputs": [],
   "source": [
    "# hyperparameters\n",
    "SUBREDDITS_CATEGORIES = [\n",
    "    \"AskReddit\",\n",
    "    \"funny\",\n",
    "    \"CasualConversation\",\n",
    "    \"AmItheAsshole\",\n",
    "    \"mildlyinfuriating\",\n",
    "    \"TooAfraidToAsk\",\n",
    "    \"teenagers\",\n",
    "    \"OffMyChest\",\n",
    "    \"confessions\",\n",
    "    \"tifu\",  \n",
    "    \"shitposting\",\n",
    "    \"me_irl\",\n",
    "    \"RoastMe\",\n",
    "    \"relationships\",\n",
    "]\n",
    "#POST_LIMIT = 50\n",
    "POST_LIMIT = 1\n",
    "#COMMENTS_LIMIT = 50\n",
    "COMMENTS_LIMIT = 5"
   ]
  },
  {
   "cell_type": "code",
   "execution_count": 6,
   "id": "7d63ee02-b9ff-45fa-8d90-96121ef8421f",
   "metadata": {},
   "outputs": [],
   "source": [
    "texts = []\n",
    "for sub_name in SUBREDDITS_CATEGORIES:\n",
    "    subreddit = reddit.subreddit(sub_name)\n",
    "    for submission in subreddit.hot(limit=POST_LIMIT):\n",
    "        texts.append(submission.title)\n",
    "        submission.comments.replace_more(limit=0)\n",
    "        for comment in submission.comments[:COMMENTS_LIMIT]:\n",
    "            if comment.body:\n",
    "                texts.append(comment.body)\n",
    "\n",
    "cleaned_texts = list(set(t.strip() for t in texts if len(t.strip()) > 10))"
   ]
  },
  {
   "cell_type": "code",
   "execution_count": 7,
   "id": "35c346a6-9725-4a2d-915c-5abad74d2ba3",
   "metadata": {},
   "outputs": [
    {
     "data": {
      "text/plain": [
       "['Good. I get absolutely spammed by OF people to the point where my bio specifically says not interested (which is still ignored).',\n",
       " '![gif](giphy|QGAMho4AlkPA41v9ib|downsized)',\n",
       " 'Step your ugly ass back from the damn camera. Fuck.',\n",
       " 'I am here because someone mentioned it somewhere else here on reddit. And being curious, I followed the link.  It was the first time I had even heard of the place despite being on reddit for a bit,',\n",
       " 'The fact that she unlocked the bathroom door with a butter knife is next level insanity. She was overstepping her bounds and knew it. If you don’t nip this in the bud (which can be done peacefully), this will be your new normal. \\n\\nI would understand if she just accidentally walked in, but under no circumstances is it okay to bypass a locked door in a house that isn’t yours. If this was a man that did this, he would be vilified as a pervert. Just because it’s your MIL doesn’t make it any more acceptable though.',\n",
       " 'You did not fuck up at all. Your MIL is horrible, SHE is the one who fucked up. Fuck her.',\n",
       " \"I live in Utah and think it's the stupidest fucking thing. But members of our legislature have also floated the idea of cutting down trees to preserve water, so it's sort of par for the course for our politicians. \\n\\nCan we put the adults back in charge yet? My liver can't handle real-life Idiocracy.\",\n",
       " 'There are multiple DIS-ingenuous REPEATED clone questions flooding queue on black people that have been answered multiple times. Weekly if not daily, you guys allow racists to ask de-humanizing questions seeking to tarnish black people , finding clever ways to complain about black people, or pretend black people are somehow in some sort of power to get favors over other people. Numerous repeat clone questions of various topics OBSESSING over black people are being allowed on here when they are clearly not asked in good intention. Losers need to be encouraged to find the answers they supposedly desperately need in the older questions that have already been asked nearly word for word',\n",
       " 'Thank you, how do we apply to this to most of the other horny-adjacent subs?',\n",
       " 'what if im banned from the disccord']"
      ]
     },
     "execution_count": 7,
     "metadata": {},
     "output_type": "execute_result"
    }
   ],
   "source": [
    "cleaned_texts[:10]"
   ]
  },
  {
   "cell_type": "code",
   "execution_count": 8,
   "id": "16ecf218-8f54-48a0-8d87-e293ecd19ca8",
   "metadata": {},
   "outputs": [],
   "source": [
    "with open(\"informal.txt\", \"w\", encoding=\"utf-8\") as f:\n",
    "    for text in cleaned_texts:\n",
    "        f.write(text + \"\\n\")"
   ]
  },
  {
   "cell_type": "code",
   "execution_count": null,
   "id": "86463a96-e55b-4435-a142-ddb27a916005",
   "metadata": {},
   "outputs": [],
   "source": []
  }
 ],
 "metadata": {
  "kernelspec": {
   "display_name": "Python 3 (ipykernel)",
   "language": "python",
   "name": "python3"
  },
  "language_info": {
   "codemirror_mode": {
    "name": "ipython",
    "version": 3
   },
   "file_extension": ".py",
   "mimetype": "text/x-python",
   "name": "python",
   "nbconvert_exporter": "python",
   "pygments_lexer": "ipython3",
   "version": "3.11.2"
  }
 },
 "nbformat": 4,
 "nbformat_minor": 5
}
