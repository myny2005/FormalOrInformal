{
 "cells": [
  {
   "cell_type": "code",
   "execution_count": 3,
   "id": "27895c81-f7ed-47c3-a267-cd147fa53d73",
   "metadata": {},
   "outputs": [],
   "source": [
    "#!pip install wikipedia-api"
   ]
  },
  {
   "cell_type": "code",
   "execution_count": 12,
   "id": "777609dc-0c39-4492-8f86-d9756a18183c",
   "metadata": {},
   "outputs": [],
   "source": [
    "import wikipediaapi\n",
    "import requests"
   ]
  },
  {
   "cell_type": "code",
   "execution_count": 13,
   "id": "c98a8f2a-35f8-4a6b-a378-7e14cb514dce",
   "metadata": {},
   "outputs": [],
   "source": [
    "wiki = wikipediaapi.Wikipedia(\n",
    "    language = 'en',\n",
    "    user_agent = 'WikiScrapper/1.0 michal.szydlo05@gmail.com'\n",
    ")"
   ]
  },
  {
   "cell_type": "code",
   "execution_count": 14,
   "id": "0d988a75-de37-44e6-9af4-65aee2cd0538",
   "metadata": {},
   "outputs": [
    {
     "name": "stdout",
     "output_type": "stream",
     "text": [
      "Connected to Wiki!\n"
     ]
    }
   ],
   "source": [
    "try:\n",
    "    response = requests.get(\"https://en.wikipedia.org\", timeout = 5)\n",
    "    if response.status_code == 200:\n",
    "        print(\"Connected to Wiki!\")\n",
    "    else:\n",
    "        print(f\"Response: {response.status_code}\")\n",
    "except requests.RequestException as e:\n",
    "    print(f\"Connection problems: {e}\")"
   ]
  },
  {
   "cell_type": "code",
   "execution_count": 15,
   "id": "b9f5bd3b-b670-4b2b-ac13-d09b80d28218",
   "metadata": {},
   "outputs": [],
   "source": [
    "test_title = \"Poland\"\n",
    "page = wiki.page(test_title)"
   ]
  },
  {
   "cell_type": "code",
   "execution_count": 16,
   "id": "e7a2c7bc-0f95-4088-852b-242f8e1e574b",
   "metadata": {},
   "outputs": [
    {
     "data": {
      "text/plain": [
       "'Poland, officially the Republic of Poland, is a country in Central Europe. It extends from the Baltic Sea in the north to the Sudetes and Carpathian Mountains in the south, bordered by Lithuania and Russia to the northeast, Belarus and Ukraine to the east, Slovakia and the Czech Republic to the south, and Germany to the west. The territory is characterised by a varied landscape, diverse ecosystems, and temperate climate. Poland is composed of sixteen voivodeships and is the fifth most populous member state of the European Union (EU), with over 38 million people, and the fifth largest EU country by land area, covering a combined area of 312,696 km2 (120,733 sq mi). The capital and largest city is Warsaw; other major cities include Kraków, Wrocław, Łódź, Poznań, and Gdańsk.\\nPrehistoric human activity on Polish soil dates to the Lower Paleolithic, with continuous settlement since the end of the Last Glacial Period. Culturally diverse throughout late antiquity, in the early medieval period'"
      ]
     },
     "execution_count": 16,
     "metadata": {},
     "output_type": "execute_result"
    }
   ],
   "source": [
    "page.text[:1000]"
   ]
  },
  {
   "cell_type": "code",
   "execution_count": 21,
   "id": "70354195-ee1b-417e-94f4-8b30010ded85",
   "metadata": {},
   "outputs": [],
   "source": [
    "# ARTICLE_TITLES = [\n",
    "#     \"Bialystok\",    \n",
    "#     \"Neural Networks\",\n",
    "#     \"JetBrains\",\n",
    "#     \"Chess\",\n",
    "#     \"Marie Curie\",\n",
    "#     \"Marcus Aurelius\",\n",
    "#     \"History of mathematics\",\n",
    "#     \"Democracy\",\n",
    "#     \"World War II\",\n",
    "#     \"Renaissance\",\n",
    "#     \"Philosophy\",\n",
    "#     \"Education\",\n",
    "#     \"United Nations\",\n",
    "#     \"Civil Rights Movement\",\n",
    "#     \"European Union\",\n",
    "#     \"Industrial Revolution\",\n",
    "#     \"Social contract\",\n",
    "#     \"History of art\",\n",
    "#     \"Economic inequality\",\n",
    "#     \"Globalization\",\n",
    "#     \"Human rights\",\n",
    "#     \"Journalism\",\n",
    "#     \"Public speaking\",\n",
    "#     \"History of writing\",\n",
    "#     \"Climate change\",\n",
    "#     \"History of architecture\",\n",
    "#     \"Cultural heritage\",\n",
    "#     \"Constitution\",\n",
    "#     \"History of philosophy\",\n",
    "#     \"Monarchy\",\n",
    "#     \"Human migration\",\n",
    "#     \"History of literature\",\n",
    "#     \"Ethics\",\n",
    "#     \"Censorship\",\n",
    "#     \"Cultural identity\",\n",
    "#     \"Gender equality\",\n",
    "#     \"Rule of law\",\n",
    "#     \"Nationalism\",\n",
    "#     \"Colonialism\",\n",
    "#     \"Civic engagement\",\n",
    "#     \"Secularism\",\n",
    "#     \"Freedom of speech\",\n",
    "#     \"Cultural anthropology\",\n",
    "#     \"Diplomacy\",\n",
    "#     \"History of science\",\n",
    "#     \"Historical linguistics\",\n",
    "#     \"Political ideology\"\n",
    "# ]\n",
    "ARTICLE_TITLES = [\n",
    "    \"Jetbrains\",\n",
    "    \"Neural Networks\",\n",
    "    \"BERT (language model)\",\n",
    "    \"Chess\",\n",
    "    \"Democracy\"\n",
    "]"
   ]
  },
  {
   "cell_type": "code",
   "execution_count": 22,
   "id": "973f71cf-7419-43ff-8ff6-5e725d32b4c1",
   "metadata": {},
   "outputs": [],
   "source": [
    "with open(\"formal.txt\", \"w\", encoding = \"utf-8\") as f:\n",
    "    for title in ARTICLE_TITLES:\n",
    "        page = wiki.page(title)\n",
    "        f.write(page.text + \"\\n\\n\")"
   ]
  },
  {
   "cell_type": "code",
   "execution_count": null,
   "id": "34af614b-f5be-4915-8520-c8cadab2dfea",
   "metadata": {},
   "outputs": [],
   "source": []
  }
 ],
 "metadata": {
  "kernelspec": {
   "display_name": "Python 3 (ipykernel)",
   "language": "python",
   "name": "python3"
  },
  "language_info": {
   "codemirror_mode": {
    "name": "ipython",
    "version": 3
   },
   "file_extension": ".py",
   "mimetype": "text/x-python",
   "name": "python",
   "nbconvert_exporter": "python",
   "pygments_lexer": "ipython3",
   "version": "3.11.2"
  }
 },
 "nbformat": 4,
 "nbformat_minor": 5
}
